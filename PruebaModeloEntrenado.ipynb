{
  "cells": [
    {
      "cell_type": "markdown",
      "metadata": {
        "id": "7f-ARIntjSgI"
      },
      "source": [
        "# Importación de librerías"
      ]
    },
    {
      "cell_type": "code",
      "execution_count": 1,
      "metadata": {
        "id": "4ELyepMWxMvO"
      },
      "outputs": [],
      "source": [
        "import os\n",
        "import cv2\n",
        "import time\n",
        "import keras\n",
        "import random\n",
        "import numpy as np\n",
        "import tensorflow as tf\n",
        "\n",
        "from google.colab import drive\n",
        "from google.colab.patches import cv2_imshow\n",
        "\n",
        "from keras import models\n",
        "from keras import layers\n",
        "from keras.preprocessing.image import ImageDataGenerator\n",
        "from keras.preprocessing.image import load_img\n",
        "from keras.preprocessing.image import img_to_array\n",
        "\n",
        "from sklearn.metrics import confusion_matrix, classification_report"
      ]
    },
    {
      "cell_type": "markdown",
      "metadata": {
        "id": "dUxx2gOSjbXn"
      },
      "source": [
        "# Creación del diccionario de etiquetas\n"
      ]
    },
    {
      "cell_type": "code",
      "execution_count": 2,
      "metadata": {
        "id": "G6GBDLCkxY97"
      },
      "outputs": [],
      "source": [
        "label_dictionary = {0: 'Case',\n",
        "              1: 'Dialga',\n",
        "              2: 'Diario Hello Kitty',\n",
        "              3: 'Forro Hello Kitty',\n",
        "              4: 'Goku',\n",
        "              5: 'Paleta de sombras',\n",
        "              6: 'Pocillo mascotas',\n",
        "              7: 'Powerbank',\n",
        "              8: 'Wireless',\n",
        "              9: 'Cosmetiquera',\n",
        "              }"
      ]
    },
    {
      "cell_type": "markdown",
      "metadata": {
        "id": "P9CY8lImjoOA"
      },
      "source": [
        "# Vínculo vía Google Drive"
      ]
    },
    {
      "cell_type": "code",
      "execution_count": 3,
      "metadata": {
        "colab": {
          "base_uri": "https://localhost:8080/"
        },
        "id": "GAek8FVHb4A7",
        "outputId": "5eea0913-4a1d-4869-db4e-afaf7cf2527f"
      },
      "outputs": [
        {
          "output_type": "stream",
          "name": "stdout",
          "text": [
            "Mounted at /content/drive\n"
          ]
        }
      ],
      "source": [
        "drive.mount('/content/drive')"
      ]
    },
    {
      "cell_type": "markdown",
      "metadata": {
        "id": "BDTCuqsnj0Uv"
      },
      "source": [
        "## Definición de rutas"
      ]
    },
    {
      "cell_type": "code",
      "execution_count": 4,
      "metadata": {
        "id": "DajHs7R7xU4Z"
      },
      "outputs": [],
      "source": [
        "test_path = '/content/drive/MyDrive/DatasetNuevo/Test'"
      ]
    },
    {
      "cell_type": "code",
      "execution_count": 5,
      "metadata": {
        "id": "Utv3nryxVrV0"
      },
      "outputs": [],
      "source": [
        "test_case_dir = test_path + '/0'  # Directorio con las imagenes de prueba de la clase Case\n",
        "test_dialga_dir = test_path + '/1'  # Directorio con las imagenes de prueba de la clase Dialga\n",
        "test_diario_dir = test_path + '/2'  # Directorio con las imagenes de prueba de la clase Diario Hello Kitty\n",
        "test_forro_dir = test_path + '/3'  # Directorio con las imagenes de prueba de la clase Forro Hello Kitty\n",
        "test_goku_dir = test_path + '/4'  # Directorio con las imagenes de prueba de la clase Goku\n",
        "test_paleta_dir = test_path + '/5'  # Directorio con las imagenes de prueba de la clase Paleta de sombras\n",
        "test_pocillo_dir = test_path + '/6'  # Directorio con las imagenes de prueba de la clase Pocillo de mascotas\n",
        "test_powerbank_dir = test_path + '/7'  # Directorio con las imagenes de prueba de la Powerbank\n",
        "test_wireless_dir = test_path + '/8'  # Directorio con las imagenes de prueba de la clase Wireless\n",
        "test_cosmetiquera_dir = test_path + '/9'  # Directorio con las imagenes de prueba de la clase Cosmetiquera"
      ]
    },
    {
      "cell_type": "markdown",
      "metadata": {
        "id": "lR8YFafAj7_v"
      },
      "source": [
        "## Propiedades del DataSet"
      ]
    },
    {
      "cell_type": "code",
      "execution_count": 6,
      "metadata": {
        "id": "vc4u8e9hVrV4"
      },
      "outputs": [],
      "source": [
        "num_case_tst = len(os.listdir(test_case_dir))\n",
        "num_dialga_tst = len(os.listdir(test_dialga_dir))\n",
        "num_diario_tst = len(os.listdir(test_diario_dir))\n",
        "num_forro_tst = len(os.listdir(test_forro_dir))\n",
        "num_goku_tst = len(os.listdir(test_goku_dir))\n",
        "num_paleta_tst = len(os.listdir(test_paleta_dir))\n",
        "num_pocillo_tst = len(os.listdir(test_pocillo_dir))\n",
        "num_powerbank_tst = len(os.listdir(test_powerbank_dir))\n",
        "num_wireless_tst = len(os.listdir(test_wireless_dir))\n",
        "num_cosmetiquera_tst = len(os.listdir(test_cosmetiquera_dir))\n",
        "\n",
        "total_tst = num_case_tst + num_dialga_tst + num_diario_tst + num_forro_tst + num_goku_tst + num_paleta_tst + num_pocillo_tst + num_powerbank_tst + num_wireless_tst + num_cosmetiquera_tst"
      ]
    },
    {
      "cell_type": "code",
      "execution_count": 7,
      "metadata": {
        "colab": {
          "base_uri": "https://localhost:8080/"
        },
        "id": "g4GGzGt0VrV7",
        "outputId": "ab2ee0dd-dd86-418d-f20c-0eb496a00414"
      },
      "outputs": [
        {
          "output_type": "stream",
          "name": "stdout",
          "text": [
            "Total test Case images: 100\n",
            "Total test Dialga images: 100\n",
            "Total test Diario images: 100\n",
            "Total test Forro images: 100\n",
            "Total test Goku images: 100\n",
            "Total test Paleta images: 100\n",
            "Total test Pocillo images: 100\n",
            "Total test Powerbank images: 100\n",
            "Total test Wireless images: 100\n",
            "Total test Cosmetiquera images: 100\n",
            "-------------\n",
            "Total test images: 1000\n"
          ]
        }
      ],
      "source": [
        "print('Total test Case images:', num_case_tst)\n",
        "print('Total test Dialga images:', num_dialga_tst)\n",
        "print('Total test Diario images:', num_diario_tst)\n",
        "print('Total test Forro images:', num_forro_tst)\n",
        "print('Total test Goku images:', num_goku_tst)\n",
        "print('Total test Paleta images:', num_paleta_tst)\n",
        "print('Total test Pocillo images:', num_pocillo_tst)\n",
        "print('Total test Powerbank images:', num_powerbank_tst)\n",
        "print('Total test Wireless images:', num_wireless_tst)\n",
        "print('Total test Cosmetiquera images:', num_cosmetiquera_tst)\n",
        "print('-------------')\n",
        "print('Total test images:', total_tst)"
      ]
    },
    {
      "cell_type": "markdown",
      "metadata": {
        "id": "M4ypyL2ikJCA"
      },
      "source": [
        "# Pre-procesamiento de imágenes"
      ]
    },
    {
      "cell_type": "markdown",
      "metadata": {
        "id": "OXiVXxg6klMf"
      },
      "source": [
        "## Aumentación y preparación de datos"
      ]
    },
    {
      "cell_type": "code",
      "execution_count": 8,
      "metadata": {
        "colab": {
          "base_uri": "https://localhost:8080/"
        },
        "id": "BBXSJNWOw_Id",
        "outputId": "a60a0177-eea9-4b7c-804e-3b8b2e62ea0d"
      },
      "outputs": [
        {
          "output_type": "stream",
          "name": "stdout",
          "text": [
            "Found 1000 images belonging to 10 classes.\n"
          ]
        }
      ],
      "source": [
        "test_datagen = ImageDataGenerator(\n",
        "                rescale = 1./255\n",
        "                )\n",
        "\n",
        "test_generator = test_datagen.flow_from_directory(\n",
        "                test_path,\n",
        "                target_size = (224,224),\n",
        "                color_mode = 'rgb',\n",
        "                classes = None,\n",
        "                class_mode = 'categorical',\n",
        "                shuffle = False,\n",
        "                interpolation = 'nearest'\n",
        "                )"
      ]
    },
    {
      "cell_type": "markdown",
      "metadata": {
        "id": "H4PEYINhk9_Y"
      },
      "source": [
        "# Modelo de red"
      ]
    },
    {
      "cell_type": "code",
      "execution_count": 9,
      "metadata": {
        "id": "fvfA_WKDK_Rv"
      },
      "outputs": [],
      "source": [
        "model_path = '/content/drive/MyDrive/DatasetNuevo/ModelosCNN/1716771911.6674159_weights_check.h5'"
      ]
    },
    {
      "cell_type": "code",
      "execution_count": 10,
      "metadata": {
        "id": "luAgC93JLUpQ"
      },
      "outputs": [],
      "source": [
        "model = models.load_model(model_path)"
      ]
    },
    {
      "cell_type": "code",
      "execution_count": 11,
      "metadata": {
        "colab": {
          "base_uri": "https://localhost:8080/"
        },
        "id": "hfkvOYvdIamU",
        "outputId": "a1d06ed6-fb47-4ee9-c265-859c32794a55"
      },
      "outputs": [
        {
          "output_type": "stream",
          "name": "stdout",
          "text": [
            "Model: \"sequential\"\n",
            "_________________________________________________________________\n",
            " Layer (type)                Output Shape              Param #   \n",
            "=================================================================\n",
            " conv2d (Conv2D)             (None, 222, 222, 32)      896       \n",
            "                                                                 \n",
            " max_pooling2d (MaxPooling2  (None, 111, 111, 32)      0         \n",
            " D)                                                              \n",
            "                                                                 \n",
            " conv2d_1 (Conv2D)           (None, 109, 109, 64)      18496     \n",
            "                                                                 \n",
            " max_pooling2d_1 (MaxPoolin  (None, 54, 54, 64)        0         \n",
            " g2D)                                                            \n",
            "                                                                 \n",
            " conv2d_2 (Conv2D)           (None, 52, 52, 128)       73856     \n",
            "                                                                 \n",
            " max_pooling2d_2 (MaxPoolin  (None, 26, 26, 128)       0         \n",
            " g2D)                                                            \n",
            "                                                                 \n",
            " conv2d_3 (Conv2D)           (None, 24, 24, 256)       295168    \n",
            "                                                                 \n",
            " max_pooling2d_3 (MaxPoolin  (None, 12, 12, 256)       0         \n",
            " g2D)                                                            \n",
            "                                                                 \n",
            " conv2d_4 (Conv2D)           (None, 10, 10, 256)       590080    \n",
            "                                                                 \n",
            " max_pooling2d_4 (MaxPoolin  (None, 5, 5, 256)         0         \n",
            " g2D)                                                            \n",
            "                                                                 \n",
            " conv2d_5 (Conv2D)           (None, 3, 3, 256)         590080    \n",
            "                                                                 \n",
            " dropout (Dropout)           (None, 3, 3, 256)         0         \n",
            "                                                                 \n",
            " flatten (Flatten)           (None, 2304)              0         \n",
            "                                                                 \n",
            " dense (Dense)               (None, 512)               1180160   \n",
            "                                                                 \n",
            " dense_1 (Dense)             (None, 10)                5130      \n",
            "                                                                 \n",
            "=================================================================\n",
            "Total params: 2753866 (10.51 MB)\n",
            "Trainable params: 2753866 (10.51 MB)\n",
            "Non-trainable params: 0 (0.00 Byte)\n",
            "_________________________________________________________________\n"
          ]
        }
      ],
      "source": [
        "model.summary()"
      ]
    },
    {
      "cell_type": "code",
      "execution_count": 12,
      "metadata": {
        "colab": {
          "base_uri": "https://localhost:8080/"
        },
        "id": "uI_GggOeUca-",
        "outputId": "2ab202c9-449f-4778-fc7e-6d6d7b684ff9"
      },
      "outputs": [
        {
          "output_type": "execute_result",
          "data": {
            "text/plain": [
              "15"
            ]
          },
          "metadata": {},
          "execution_count": 12
        }
      ],
      "source": [
        "len(model.layers)"
      ]
    },
    {
      "cell_type": "markdown",
      "metadata": {
        "id": "lFvY47lymkbe"
      },
      "source": [
        "# Métricas del modelo de red neuronal"
      ]
    },
    {
      "cell_type": "markdown",
      "metadata": {
        "id": "v4HTfEtHmxEj"
      },
      "source": [
        "## Evaluación"
      ]
    },
    {
      "cell_type": "code",
      "execution_count": 13,
      "metadata": {
        "colab": {
          "base_uri": "https://localhost:8080/"
        },
        "id": "insGzpUd1f7E",
        "outputId": "079ef19c-58f0-469e-8787-047fd09d6796"
      },
      "outputs": [
        {
          "output_type": "stream",
          "name": "stdout",
          "text": [
            "32/32 [==============================] - 315s 10s/step - loss: 0.2535 - accuracy: 0.9540\n"
          ]
        }
      ],
      "source": [
        "evaluation = model.evaluate(test_generator)"
      ]
    },
    {
      "cell_type": "code",
      "execution_count": 14,
      "metadata": {
        "colab": {
          "base_uri": "https://localhost:8080/"
        },
        "id": "Cj_PsIrivAAq",
        "outputId": "edaf2558-3b29-468a-9a29-1e87cad9fe1f"
      },
      "outputs": [
        {
          "output_type": "execute_result",
          "data": {
            "text/plain": [
              "[0.25352397561073303, 0.9539999961853027]"
            ]
          },
          "metadata": {},
          "execution_count": 14
        }
      ],
      "source": [
        "evaluation"
      ]
    },
    {
      "cell_type": "markdown",
      "metadata": {
        "id": "BTTGvXzJNkVo"
      },
      "source": [
        "## Predicción de la red con imágenes de prueba"
      ]
    },
    {
      "cell_type": "code",
      "execution_count": 15,
      "metadata": {
        "colab": {
          "base_uri": "https://localhost:8080/"
        },
        "id": "GEViF8YBN2eT",
        "outputId": "3a1e2c68-ac52-4212-ac88-889a93c0665c"
      },
      "outputs": [
        {
          "output_type": "stream",
          "name": "stdout",
          "text": [
            "32/32 [==============================] - 4s 129ms/step\n"
          ]
        }
      ],
      "source": [
        "test_predictions = model.predict(test_generator)"
      ]
    },
    {
      "cell_type": "code",
      "execution_count": 16,
      "metadata": {
        "id": "OhJAo-CyP0Oa"
      },
      "outputs": [],
      "source": [
        "predicted_test_images = []\n",
        "\n",
        "for prediction in test_predictions:\n",
        "  predicted_test_images.append(np.argmax(prediction))"
      ]
    },
    {
      "cell_type": "code",
      "execution_count": 20,
      "metadata": {
        "id": "U-zELLp0OYvi"
      },
      "outputs": [],
      "source": [
        "test_labels = []\n",
        "\n",
        "for test_folder in range(10):\n",
        "  test_class = len(os.listdir(test_path+'/'+str(test_folder)))\n",
        "  for test_image in range(test_class):\n",
        "    test_labels.append(test_folder)"
      ]
    },
    {
      "cell_type": "markdown",
      "metadata": {
        "id": "3piNBFeXQoZq"
      },
      "source": [
        "## Confusion Matrix"
      ]
    },
    {
      "cell_type": "code",
      "execution_count": 21,
      "metadata": {
        "colab": {
          "base_uri": "https://localhost:8080/"
        },
        "id": "6awXYEWMQ48i",
        "outputId": "236a5506-54e4-4fc5-e7d1-ca10d0e72e48"
      },
      "outputs": [
        {
          "output_type": "execute_result",
          "data": {
            "text/plain": [
              "array([[ 89,   0,   0,   0,   8,   0,   0,   2,   0,   1],\n",
              "       [  0,  89,   0,   2,   0,   0,   9,   0,   0,   0],\n",
              "       [  0,   0,  94,   6,   0,   0,   0,   0,   0,   0],\n",
              "       [  0,   0,   0,  97,   0,   0,   0,   3,   0,   0],\n",
              "       [  0,   0,   0,   0,  95,   0,   0,   5,   0,   0],\n",
              "       [  0,   0,   0,   2,   0,  94,   0,   3,   0,   1],\n",
              "       [  0,   0,   0,   0,   0,   0, 100,   0,   0,   0],\n",
              "       [  0,   0,   0,   0,   0,   0,   0, 100,   0,   0],\n",
              "       [  0,   0,   0,   0,   3,   0,   0,   0,  97,   0],\n",
              "       [  0,   0,   1,   0,   0,   0,   0,   0,   0,  99]])"
            ]
          },
          "metadata": {},
          "execution_count": 21
        }
      ],
      "source": [
        "model_confusion_matrix = confusion_matrix(test_labels,predicted_test_images)\n",
        "\n",
        "#Row = True // Columns = Predictions\n",
        "model_confusion_matrix"
      ]
    },
    {
      "cell_type": "markdown",
      "metadata": {
        "id": "McuYaAhAUltD"
      },
      "source": [
        "## Classification Report"
      ]
    },
    {
      "cell_type": "code",
      "execution_count": 23,
      "metadata": {
        "colab": {
          "base_uri": "https://localhost:8080/",
          "height": 157
        },
        "id": "9coGcnl1So6L",
        "outputId": "69b1f4c8-9c4d-4b5e-865a-44940569fc28"
      },
      "outputs": [
        {
          "output_type": "execute_result",
          "data": {
            "text/plain": [
              "'                     precision    recall  f1-score   support\\n\\n               Case       1.00      0.89      0.94       100\\n             Dialga       1.00      0.89      0.94       100\\n Diario Hello Kitty       0.99      0.94      0.96       100\\n  Forro Hello Kitty       0.91      0.97      0.94       100\\n               Goku       0.90      0.95      0.92       100\\n  Paleta de sombras       1.00      0.94      0.97       100\\nPocillo de mascotas       0.92      1.00      0.96       100\\n          Powerbank       0.88      1.00      0.94       100\\n           Wireless       1.00      0.97      0.98       100\\n       Cosmetiquera       0.98      0.99      0.99       100\\n\\n           accuracy                           0.95      1000\\n          macro avg       0.96      0.95      0.95      1000\\n       weighted avg       0.96      0.95      0.95      1000\\n'"
            ],
            "application/vnd.google.colaboratory.intrinsic+json": {
              "type": "string"
            }
          },
          "metadata": {},
          "execution_count": 23
        }
      ],
      "source": [
        "model_classification_report = classification_report(test_labels,predicted_test_images,target_names=['Case','Dialga','Diario Hello Kitty', 'Forro Hello Kitty', 'Goku', 'Paleta de sombras', 'Pocillo de mascotas', 'Powerbank', 'Wireless', 'Cosmetiquera'])\n",
        "\n",
        "model_classification_report"
      ]
    },
    {
      "cell_type": "markdown",
      "metadata": {
        "id": "ACmx7Qjbl91_"
      },
      "source": [
        "# Sección de prueba de la red neuronal"
      ]
    },
    {
      "cell_type": "code",
      "execution_count": 32,
      "metadata": {
        "colab": {
          "base_uri": "https://localhost:8080/",
          "height": 293
        },
        "id": "8t8gtlwBXzUs",
        "outputId": "770f6f58-1036-40dd-b4f8-a7b0e9eadbc1"
      },
      "outputs": [
        {
          "output_type": "display_data",
          "data": {
            "text/plain": [
              "<PIL.Image.Image image mode=RGB size=224x224>"
            ],
            "image/png": "[encoded data removed]"
          },
          "metadata": {}
        },
        {
          "output_type": "stream",
          "name": "stdout",
          "text": [
            "1/1 [==============================] - 0s 62ms/step\n",
            "-------------\n",
            "Este producto es = Cosmetiquera\n"
          ]
        }
      ],
      "source": [
        "test_files = os.listdir(test_path)\n",
        "folder = random.choice (test_files)\n",
        "image_text = random.choice(os.listdir(test_path+'/'+folder))\n",
        "\n",
        "img = load_img(test_path+'/'+folder+'/'+image_text)\n",
        "img = img_to_array(img)\n",
        "sup_img = img\n",
        "\n",
        "shw_img = cv2.resize(sup_img,(224,224))\n",
        "cv2_imshow(shw_img)\n",
        "\n",
        "img = img/255\n",
        "img = cv2.resize(img,(224,224))\n",
        "\n",
        "img = np.expand_dims(img,0)\n",
        "\n",
        "prediction = model.predict(img)\n",
        "prediction = np.argmax(prediction)\n",
        "\n",
        "\n",
        "classification = label_dictionary[prediction]\n",
        "print('-------------')\n",
        "print('Este producto es = ' + classification)"
      ]
    },
    {
      "cell_type": "markdown",
      "metadata": {
        "id": "HNp9ns68mv2q"
      },
      "source": [
        "# Predicción del modelo de red neuronal"
      ]
    },
    {
      "cell_type": "markdown",
      "metadata": {
        "id": "BWBa67uTpaqw"
      },
      "source": [
        "## Predicción al usuario"
      ]
    },
    {
      "cell_type": "markdown",
      "metadata": {
        "id": "Pjo938U_pgVg"
      },
      "source": [
        "### Subida del archivo externo"
      ]
    },
    {
      "cell_type": "code",
      "execution_count": 25,
      "metadata": {
        "colab": {
          "base_uri": "https://localhost:8080/",
          "height": 360
        },
        "id": "jtD2VXVMpqcp",
        "outputId": "22fdc99e-d22b-47c2-c216-d71be42a3c66"
      },
      "outputs": [
        {
          "output_type": "display_data",
          "data": {
            "text/plain": [
              "<IPython.core.display.HTML object>"
            ],
            "text/html": [
              "\n",
              "     <input type=\"file\" id=\"files-327527b7-8765-4f91-add6-1f98e7ea2adb\" name=\"files[]\" multiple disabled\n",
              "        style=\"border:none\" />\n",
              "     <output id=\"result-327527b7-8765-4f91-add6-1f98e7ea2adb\">\n",
              "      Upload widget is only available when the cell has been executed in the\n",
              "      current browser session. Please rerun this cell to enable.\n",
              "      </output>\n",
              "      <script>// Copyright 2017 Google LLC\n",
              "//\n",
              "// Licensed under the Apache License, Version 2.0 (the \"License\");\n",
              "// you may not use this file except in compliance with the License.\n",
              "// You may obtain a copy of the License at\n",
              "//\n",
              "//      http://www.apache.org/licenses/LICENSE-2.0\n",
              "//\n",
              "// Unless required by applicable law or agreed to in writing, software\n",
              "// distributed under the License is distributed on an \"AS IS\" BASIS,\n",
              "// WITHOUT WARRANTIES OR CONDITIONS OF ANY KIND, either express or implied.\n",
              "// See the License for the specific language governing permissions and\n",
              "// limitations under the License.\n",
              "\n",
              "/**\n",
              " * @fileoverview Helpers for google.colab Python module.\n",
              " */\n",
              "(function(scope) {\n",
              "function span(text, styleAttributes = {}) {\n",
              "  const element = document.createElement('span');\n",
              "  element.textContent = text;\n",
              "  for (const key of Object.keys(styleAttributes)) {\n",
              "    element.style[key] = styleAttributes[key];\n",
              "  }\n",
              "  return element;\n",
              "}\n",
              "\n",
              "// Max number of bytes which will be uploaded at a time.\n",
              "const MAX_PAYLOAD_SIZE = 100 * 1024;\n",
              "\n",
              "function _uploadFiles(inputId, outputId) {\n",
              "  const steps = uploadFilesStep(inputId, outputId);\n",
              "  const outputElement = document.getElementById(outputId);\n",
              "  // Cache steps on the outputElement to make it available for the next call\n",
              "  // to uploadFilesContinue from Python.\n",
              "  outputElement.steps = steps;\n",
              "\n",
              "  return _uploadFilesContinue(outputId);\n",
              "}\n",
              "\n",
              "// This is roughly an async generator (not supported in the browser yet),\n",
              "// where there are multiple asynchronous steps and the Python side is going\n",
              "// to poll for completion of each step.\n",
              "// This uses a Promise to block the python side on completion of each step,\n",
              "// then passes the result of the previous step as the input to the next step.\n",
              "function _uploadFilesContinue(outputId) {\n",
              "  const outputElement = document.getElementById(outputId);\n",
              "  const steps = outputElement.steps;\n",
              "\n",
              "  const next = steps.next(outputElement.lastPromiseValue);\n",
              "  return Promise.resolve(next.value.promise).then((value) => {\n",
              "    // Cache the last promise value to make it available to the next\n",
              "    // step of the generator.\n",
              "    outputElement.lastPromiseValue = value;\n",
              "    return next.value.response;\n",
              "  });\n",
              "}\n",
              "\n",
              "/**\n",
              " * Generator function which is called between each async step of the upload\n",
              " * process.\n",
              " * @param {string} inputId Element ID of the input file picker element.\n",
              " * @param {string} outputId Element ID of the output display.\n",
              " * @return {!Iterable<!Object>} Iterable of next steps.\n",
              " */\n",
              "function* uploadFilesStep(inputId, outputId) {\n",
              "  const inputElement = document.getElementById(inputId);\n",
              "  inputElement.disabled = false;\n",
              "\n",
              "  const outputElement = document.getElementById(outputId);\n",
              "  outputElement.innerHTML = '';\n",
              "\n",
              "  const pickedPromise = new Promise((resolve) => {\n",
              "    inputElement.addEventListener('change', (e) => {\n",
              "      resolve(e.target.files);\n",
              "    });\n",
              "  });\n",
              "\n",
              "  const cancel = document.createElement('button');\n",
              "  inputElement.parentElement.appendChild(cancel);\n",
              "  cancel.textContent = 'Cancel upload';\n",
              "  const cancelPromise = new Promise((resolve) => {\n",
              "    cancel.onclick = () => {\n",
              "      resolve(null);\n",
              "    };\n",
              "  });\n",
              "\n",
              "  // Wait for the user to pick the files.\n",
              "  const files = yield {\n",
              "    promise: Promise.race([pickedPromise, cancelPromise]),\n",
              "    response: {\n",
              "      action: 'starting',\n",
              "    }\n",
              "  };\n",
              "\n",
              "  cancel.remove();\n",
              "\n",
              "  // Disable the input element since further picks are not allowed.\n",
              "  inputElement.disabled = true;\n",
              "\n",
              "  if (!files) {\n",
              "    return {\n",
              "      response: {\n",
              "        action: 'complete',\n",
              "      }\n",
              "    };\n",
              "  }\n",
              "\n",
              "  for (const file of files) {\n",
              "    const li = document.createElement('li');\n",
              "    li.append(span(file.name, {fontWeight: 'bold'}));\n",
              "    li.append(span(\n",
              "        `(${file.type || 'n/a'}) - ${file.size} bytes, ` +\n",
              "        `last modified: ${\n",
              "            file.lastModifiedDate ? file.lastModifiedDate.toLocaleDateString() :\n",
              "                                    'n/a'} - `));\n",
              "    const percent = span('0% done');\n",
              "    li.appendChild(percent);\n",
              "\n",
              "    outputElement.appendChild(li);\n",
              "\n",
              "    const fileDataPromise = new Promise((resolve) => {\n",
              "      const reader = new FileReader();\n",
              "      reader.onload = (e) => {\n",
              "        resolve(e.target.result);\n",
              "      };\n",
              "      reader.readAsArrayBuffer(file);\n",
              "    });\n",
              "    // Wait for the data to be ready.\n",
              "    let fileData = yield {\n",
              "      promise: fileDataPromise,\n",
              "      response: {\n",
              "        action: 'continue',\n",
              "      }\n",
              "    };\n",
              "\n",
              "    // Use a chunked sending to avoid message size limits. See b/62115660.\n",
              "    let position = 0;\n",
              "    do {\n",
              "      const length = Math.min(fileData.byteLength - position, MAX_PAYLOAD_SIZE);\n",
              "      const chunk = new Uint8Array(fileData, position, length);\n",
              "      position += length;\n",
              "\n",
              "      const base64 = btoa(String.fromCharCode.apply(null, chunk));\n",
              "      yield {\n",
              "        response: {\n",
              "          action: 'append',\n",
              "          file: file.name,\n",
              "          data: base64,\n",
              "        },\n",
              "      };\n",
              "\n",
              "      let percentDone = fileData.byteLength === 0 ?\n",
              "          100 :\n",
              "          Math.round((position / fileData.byteLength) * 100);\n",
              "      percent.textContent = `${percentDone}% done`;\n",
              "\n",
              "    } while (position < fileData.byteLength);\n",
              "  }\n",
              "\n",
              "  // All done.\n",
              "  yield {\n",
              "    response: {\n",
              "      action: 'complete',\n",
              "    }\n",
              "  };\n",
              "}\n",
              "\n",
              "scope.google = scope.google || {};\n",
              "scope.google.colab = scope.google.colab || {};\n",
              "scope.google.colab._files = {\n",
              "  _uploadFiles,\n",
              "  _uploadFilesContinue,\n",
              "};\n",
              "})(self);\n",
              "</script> "
            ]
          },
          "metadata": {}
        },
        {
          "output_type": "error",
          "ename": "KeyboardInterrupt",
          "evalue": "",
          "traceback": [
            "\u001b[0;31m---------------------------------------------------------------------------\u001b[0m",
            "\u001b[0;31mKeyboardInterrupt\u001b[0m                         Traceback (most recent call last)",
            "\u001b[0;32m<ipython-input-25-4938e46e651b>\u001b[0m in \u001b[0;36m<cell line: 3>\u001b[0;34m()\u001b[0m\n\u001b[1;32m      1\u001b[0m \u001b[0;32mfrom\u001b[0m \u001b[0mgoogle\u001b[0m\u001b[0;34m.\u001b[0m\u001b[0mcolab\u001b[0m \u001b[0;32mimport\u001b[0m \u001b[0mfiles\u001b[0m\u001b[0;34m\u001b[0m\u001b[0;34m\u001b[0m\u001b[0m\n\u001b[1;32m      2\u001b[0m \u001b[0;34m\u001b[0m\u001b[0m\n\u001b[0;32m----> 3\u001b[0;31m \u001b[0mupload_img\u001b[0m \u001b[0;34m=\u001b[0m \u001b[0mfiles\u001b[0m\u001b[0;34m.\u001b[0m\u001b[0mupload\u001b[0m\u001b[0;34m(\u001b[0m\u001b[0;34m)\u001b[0m\u001b[0;34m\u001b[0m\u001b[0;34m\u001b[0m\u001b[0m\n\u001b[0m",
            "\u001b[0;32m/usr/local/lib/python3.10/dist-packages/google/colab/files.py\u001b[0m in \u001b[0;36mupload\u001b[0;34m()\u001b[0m\n\u001b[1;32m     67\u001b[0m   \"\"\"\n\u001b[1;32m     68\u001b[0m \u001b[0;34m\u001b[0m\u001b[0m\n\u001b[0;32m---> 69\u001b[0;31m   \u001b[0muploaded_files\u001b[0m \u001b[0;34m=\u001b[0m \u001b[0m_upload_files\u001b[0m\u001b[0;34m(\u001b[0m\u001b[0mmultiple\u001b[0m\u001b[0;34m=\u001b[0m\u001b[0;32mTrue\u001b[0m\u001b[0;34m)\u001b[0m\u001b[0;34m\u001b[0m\u001b[0;34m\u001b[0m\u001b[0m\n\u001b[0m\u001b[1;32m     70\u001b[0m   \u001b[0;31m# Mapping from original filename to filename as saved locally.\u001b[0m\u001b[0;34m\u001b[0m\u001b[0;34m\u001b[0m\u001b[0m\n\u001b[1;32m     71\u001b[0m   \u001b[0mlocal_filenames\u001b[0m \u001b[0;34m=\u001b[0m \u001b[0mdict\u001b[0m\u001b[0;34m(\u001b[0m\u001b[0;34m)\u001b[0m\u001b[0;34m\u001b[0m\u001b[0;34m\u001b[0m\u001b[0m\n",
            "\u001b[0;32m/usr/local/lib/python3.10/dist-packages/google/colab/files.py\u001b[0m in \u001b[0;36m_upload_files\u001b[0;34m(multiple)\u001b[0m\n\u001b[1;32m    154\u001b[0m \u001b[0;34m\u001b[0m\u001b[0m\n\u001b[1;32m    155\u001b[0m   \u001b[0;31m# First result is always an indication that the file picker has completed.\u001b[0m\u001b[0;34m\u001b[0m\u001b[0;34m\u001b[0m\u001b[0m\n\u001b[0;32m--> 156\u001b[0;31m   result = _output.eval_js(\n\u001b[0m\u001b[1;32m    157\u001b[0m       'google.colab._files._uploadFiles(\"{input_id}\", \"{output_id}\")'.format(\n\u001b[1;32m    158\u001b[0m           \u001b[0minput_id\u001b[0m\u001b[0;34m=\u001b[0m\u001b[0minput_id\u001b[0m\u001b[0;34m,\u001b[0m \u001b[0moutput_id\u001b[0m\u001b[0;34m=\u001b[0m\u001b[0moutput_id\u001b[0m\u001b[0;34m\u001b[0m\u001b[0;34m\u001b[0m\u001b[0m\n",
            "\u001b[0;32m/usr/local/lib/python3.10/dist-packages/google/colab/output/_js.py\u001b[0m in \u001b[0;36meval_js\u001b[0;34m(script, ignore_result, timeout_sec)\u001b[0m\n\u001b[1;32m     38\u001b[0m   \u001b[0;32mif\u001b[0m \u001b[0mignore_result\u001b[0m\u001b[0;34m:\u001b[0m\u001b[0;34m\u001b[0m\u001b[0;34m\u001b[0m\u001b[0m\n\u001b[1;32m     39\u001b[0m     \u001b[0;32mreturn\u001b[0m\u001b[0;34m\u001b[0m\u001b[0;34m\u001b[0m\u001b[0m\n\u001b[0;32m---> 40\u001b[0;31m   \u001b[0;32mreturn\u001b[0m \u001b[0m_message\u001b[0m\u001b[0;34m.\u001b[0m\u001b[0mread_reply_from_input\u001b[0m\u001b[0;34m(\u001b[0m\u001b[0mrequest_id\u001b[0m\u001b[0;34m,\u001b[0m \u001b[0mtimeout_sec\u001b[0m\u001b[0;34m)\u001b[0m\u001b[0;34m\u001b[0m\u001b[0;34m\u001b[0m\u001b[0m\n\u001b[0m\u001b[1;32m     41\u001b[0m \u001b[0;34m\u001b[0m\u001b[0m\n\u001b[1;32m     42\u001b[0m \u001b[0;34m\u001b[0m\u001b[0m\n",
            "\u001b[0;32m/usr/local/lib/python3.10/dist-packages/google/colab/_message.py\u001b[0m in \u001b[0;36mread_reply_from_input\u001b[0;34m(message_id, timeout_sec)\u001b[0m\n\u001b[1;32m     94\u001b[0m     \u001b[0mreply\u001b[0m \u001b[0;34m=\u001b[0m \u001b[0m_read_next_input_message\u001b[0m\u001b[0;34m(\u001b[0m\u001b[0;34m)\u001b[0m\u001b[0;34m\u001b[0m\u001b[0;34m\u001b[0m\u001b[0m\n\u001b[1;32m     95\u001b[0m     \u001b[0;32mif\u001b[0m \u001b[0mreply\u001b[0m \u001b[0;34m==\u001b[0m \u001b[0m_NOT_READY\u001b[0m \u001b[0;32mor\u001b[0m \u001b[0;32mnot\u001b[0m \u001b[0misinstance\u001b[0m\u001b[0;34m(\u001b[0m\u001b[0mreply\u001b[0m\u001b[0;34m,\u001b[0m \u001b[0mdict\u001b[0m\u001b[0;34m)\u001b[0m\u001b[0;34m:\u001b[0m\u001b[0;34m\u001b[0m\u001b[0;34m\u001b[0m\u001b[0m\n\u001b[0;32m---> 96\u001b[0;31m       \u001b[0mtime\u001b[0m\u001b[0;34m.\u001b[0m\u001b[0msleep\u001b[0m\u001b[0;34m(\u001b[0m\u001b[0;36m0.025\u001b[0m\u001b[0;34m)\u001b[0m\u001b[0;34m\u001b[0m\u001b[0;34m\u001b[0m\u001b[0m\n\u001b[0m\u001b[1;32m     97\u001b[0m       \u001b[0;32mcontinue\u001b[0m\u001b[0;34m\u001b[0m\u001b[0;34m\u001b[0m\u001b[0m\n\u001b[1;32m     98\u001b[0m     if (\n",
            "\u001b[0;31mKeyboardInterrupt\u001b[0m: "
          ]
        }
      ],
      "source": [
        "from google.colab import files\n",
        "\n",
        "upload_img = files.upload()"
      ]
    },
    {
      "cell_type": "markdown",
      "metadata": {
        "id": "yYOwaRzOppWC"
      },
      "source": [
        "### Predicción y juego"
      ]
    },
    {
      "cell_type": "code",
      "execution_count": null,
      "metadata": {
        "id": "3OdxlWdb3QHs"
      },
      "outputs": [],
      "source": [
        "user_input_img = str(upload_img).split(sep=':')\n",
        "user_input_img = str(user_input_img[0]).split(sep='{')\n",
        "user_input_img = user_input_img[1].replace(\"'\",\"\")\n",
        "\n",
        "user_img = load_img('/content/' + user_input_img)\n",
        "\n",
        "\n",
        "user_img = img_to_array(user_img)\n",
        "sup_img = user_img\n",
        "\n",
        "shw_img = cv2.resize(sup_img,(224,224))\n",
        "cv2_imshow(shw_img)\n",
        "\n",
        "user_img = user_img/255\n",
        "user_img = cv2.resize(user_img,(224,224))\n",
        "\n",
        "u_img = np.expand_dims(user_img,0)\n",
        "\n",
        "\n",
        "user_input_prediction = model.predict(u_img)\n",
        "user_prediction = np.argmax(user_input_prediction)\n",
        "\n",
        "user_classification = label_dictionary[user_prediction]\n",
        "\n",
        "print('-------------')\n",
        "print('Este producto es = ' + user_classification)\n",
        "print('-------------')\n",
        "\n",
        "os.remove('/content/' + user_input_img)"
      ]
    },
    {
      "cell_type": "markdown",
      "metadata": {
        "id": "otFg9_zKh8fC"
      },
      "source": [
        "### Para volver a probar una predicción de este modelo de red neuronal convolucional, por favor ejecuta las últimas dos celdas."
      ]
    }
  ],
  "metadata": {
    "accelerator": "GPU",
    "colab": {
      "provenance": []
    },
    "gpuClass": "standard",
    "kernelspec": {
      "display_name": "Python 3",
      "name": "python3"
    },
    "language_info": {
      "name": "python"
    }
  },
  "nbformat": 4,
  "nbformat_minor": 0
}