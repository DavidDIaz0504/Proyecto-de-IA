{
  "cells": [
    {
      "cell_type": "markdown",
      "metadata": {
        "id": "7f-ARIntjSgI"
      },
      "source": [
        "# Importación de librerías"
      ]
    },
    {
      "cell_type": "code",
      "execution_count": null,
      "metadata": {
        "id": "4ELyepMWxMvO"
      },
      "outputs": [],
      "source": [
        "import os\n",
        "import cv2\n",
        "import time\n",
        "import random\n",
        "import numpy as np\n",
        "import tensorflow as tf\n",
        "import matplotlib.pyplot as plt\n",
        "\n",
        "from google.colab import drive\n",
        "from google.colab.patches import cv2_imshow\n",
        "\n",
        "from keras import models\n",
        "from keras import layers\n",
        "from keras.callbacks import ModelCheckpoint, EarlyStopping, ReduceLROnPlateau\n",
        "from keras.preprocessing.image import ImageDataGenerator\n",
        "from keras.preprocessing.image import load_img\n",
        "from keras.preprocessing.image import img_to_array\n",
        "\n",
        "from sklearn.metrics import confusion_matrix, classification_report"
      ]
    },
    {
      "cell_type": "markdown",
      "metadata": {
        "id": "6BH2SRiojb_m"
      },
      "source": [
        "# Definición de variables"
      ]
    },
    {
      "cell_type": "code",
      "execution_count": null,
      "metadata": {
        "id": "9cYPrraWxUNS"
      },
      "outputs": [],
      "source": [
        "target_size_width = 224\n",
        "target_size_height = 224\n",
        "input_shape = (target_size_height, target_size_width)\n",
        "model_batch_size = 50\n",
        "number_of_classes = 10\n",
        "epochs = 8"
      ]
    },
    {
      "cell_type": "markdown",
      "metadata": {
        "id": "dUxx2gOSjbXn"
      },
      "source": [
        "# Creación del diccionario de etiquetas\n"
      ]
    },
    {
      "cell_type": "code",
      "execution_count": null,
      "metadata": {
        "id": "G6GBDLCkxY97"
      },
      "outputs": [],
      "source": [
        "label_dictionary = {0: 'Case',\n",
        "              1: 'Dialga',\n",
        "              2: 'Diario Hello Kitty',\n",
        "              3: 'Forro Hello Kitty',\n",
        "              4: 'Goku',\n",
        "              5: 'Paleta de sombras',\n",
        "              6: 'Pocillo mascotas',\n",
        "              7: 'Powerbank',\n",
        "              8: 'Wireless',\n",
        "              9: 'Comestiquera',\n",
        "              }"
      ]
    },
    {
      "cell_type": "markdown",
      "metadata": {
        "id": "P9CY8lImjoOA"
      },
      "source": [
        "# Vínculo del DataSet vía Google Drive"
      ]
    },
    {
      "cell_type": "code",
      "execution_count": null,
      "metadata": {
        "colab": {
          "base_uri": "https://localhost:8080/"
        },
        "id": "GAek8FVHb4A7",
        "outputId": "d403b439-c6be-430c-d14f-a83590736acd"
      },
      "outputs": [
        {
          "output_type": "stream",
          "name": "stdout",
          "text": [
            "Mounted at /content/drive\n"
          ]
        }
      ],
      "source": [
        "drive.mount('/content/drive')"
      ]
    },
    {
      "cell_type": "markdown",
      "metadata": {
        "id": "BDTCuqsnj0Uv"
      },
      "source": [
        "## Definición de rutas"
      ]
    },
    {
      "cell_type": "code",
      "execution_count": null,
      "metadata": {
        "id": "DajHs7R7xU4Z"
      },
      "outputs": [],
      "source": [
        "root_path = '/content/drive/MyDrive/DatasetNuevo'\n",
        "\n",
        "train_path = root_path + '/Train'\n",
        "valid_path = root_path + '/Validation'\n",
        "test_path = root_path + '/Test'"
      ]
    },
    {
      "cell_type": "code",
      "execution_count": null,
      "metadata": {
        "id": "Utv3nryxVrV0"
      },
      "outputs": [],
      "source": [
        "train_case_dir = train_path + '/0'  # Directorio con las imagenes de entrenamiento de la clase Case\n",
        "train_dialga_dir = train_path + '/1'  # Directorio con las imagenes de entrenamiento de la clase Dialga\n",
        "train_diario_dir = train_path + '/2'  # Directorio con las imagenes de entrenamiento de la clase Diario Hello Kitty\n",
        "train_forro_dir = train_path + '/3'  # Directorio con las imagenes de entrenamiento de la clase Forro Hello Kitty\n",
        "train_goku_dir = train_path + '/4'  # Directorio con las imagenes de entrenamiento de la clase Goku\n",
        "train_paleta_dir = train_path + '/5'  # Directorio con las imagenes de entrenamiento de la clase Paleta de sombras\n",
        "train_pocillo_dir = train_path + '/6'  # Directorio con las imagenes de entrenamiento de la clase Pocillo de mascotas\n",
        "train_powerbank_dir = train_path + '/7'  # Directorio con las imagenes de entrenamiento de la Powerbank\n",
        "train_wireless_dir = train_path + '/8'  # Directorio con las imagenes de entrenamiento de la clase Wireless\n",
        "train_cosmetiquera_dir = train_path + '/9'  # Directorio con las imagenes de entrenamiento de la clase Cosmetiquera\n",
        "\n",
        "valid_case_dir = valid_path + '/0'  # Directorio con las imagenes de validacion de la clase Case\n",
        "valid_dialga_dir = valid_path + '/1'  # Directorio con las imagenes de validacion de la clase Dialga\n",
        "valid_diario_dir = valid_path + '/2'  # Directorio con las imagenes de validacion de la clase Diario Hello Kitty\n",
        "valid_forro_dir = valid_path + '/3'  # Directorio con las imagenes de validacion de la clase Forro Hello Kitty\n",
        "valid_goku_dir = valid_path + '/4'  # Directorio con las imagenes de validacion de la clase Goku\n",
        "valid_paleta_dir = valid_path + '/5'  # Directorio con las imagenes de validacion de la clase Paleta de sombras\n",
        "valid_pocillo_dir = valid_path + '/6'  # Directorio con las imagenes de validacion de la clase Pocillo de mascotas\n",
        "valid_powerbank_dir = valid_path + '/7'  # Directorio con las imagenes de validacion de la Powerbank\n",
        "valid_wireless_dir = valid_path + '/8'  # Directorio con las imagenes de validacion de la clase Wireless\n",
        "valid_cosmetiquera_dir = valid_path + '/9'  # Directorio con las imagenes de validacion de la clase Cosmetiquera\n",
        "\n",
        "test_case_dir = test_path + '/0'  # Directorio con las imagenes de prueba de la clase Case\n",
        "test_dialga_dir = test_path + '/1'  # Directorio con las imagenes de prueba de la clase Dialga\n",
        "test_diario_dir = test_path + '/2'  # Directorio con las imagenes de prueba de la clase Diario Hello Kitty\n",
        "test_forro_dir = test_path + '/3'  # Directorio con las imagenes de prueba de la clase Forro Hello Kitty\n",
        "test_goku_dir = test_path + '/4'  # Directorio con las imagenes de prueba de la clase Goku\n",
        "test_paleta_dir = test_path + '/5'  # Directorio con las imagenes de prueba de la clase Paleta de sombras\n",
        "test_pocillo_dir = test_path + '/6'  # Directorio con las imagenes de prueba de la clase Pocillo de mascotas\n",
        "test_powerbank_dir = test_path + '/7'  # Directorio con las imagenes de prueba de la Powerbank\n",
        "test_wireless_dir = test_path + '/8'  # Directorio con las imagenes de prueba de la clase Wireless\n",
        "test_cosmetiquera_dir = test_path + '/9'  # Directorio con las imagenes de prueba de la clase Cosmetiquera"
      ]
    },
    {
      "cell_type": "markdown",
      "metadata": {
        "id": "lR8YFafAj7_v"
      },
      "source": [
        "## Propiedades del DataSet"
      ]
    },
    {
      "cell_type": "code",
      "execution_count": null,
      "metadata": {
        "id": "vc4u8e9hVrV4"
      },
      "outputs": [],
      "source": [
        "num_case_tr = len(os.listdir(train_case_dir))\n",
        "num_dialga_tr = len(os.listdir(train_dialga_dir))\n",
        "num_diario_tr = len(os.listdir(train_diario_dir))\n",
        "num_forro_tr = len(os.listdir(train_forro_dir))\n",
        "num_goku_tr = len(os.listdir(train_goku_dir))\n",
        "num_paleta_tr = len(os.listdir(train_paleta_dir))\n",
        "num_pocillo_tr = len(os.listdir(train_pocillo_dir))\n",
        "num_powerbank_tr = len(os.listdir(train_powerbank_dir))\n",
        "num_wireless_tr = len(os.listdir(train_wireless_dir))\n",
        "num_cosmetiquera_tr = len(os.listdir(train_cosmetiquera_dir))\n",
        "\n",
        "num_case_val = len(os.listdir(valid_case_dir))\n",
        "num_dialga_val = len(os.listdir(valid_dialga_dir))\n",
        "num_diario_val = len(os.listdir(valid_diario_dir))\n",
        "num_forro_val = len(os.listdir(valid_forro_dir))\n",
        "num_goku_val = len(os.listdir(valid_goku_dir))\n",
        "num_paleta_val = len(os.listdir(valid_paleta_dir))\n",
        "num_pocillo_val = len(os.listdir(valid_pocillo_dir))\n",
        "num_powerbank_val = len(os.listdir(valid_powerbank_dir))\n",
        "num_wireless_val = len(os.listdir(valid_wireless_dir))\n",
        "num_cosmetiquera_val = len(os.listdir(valid_cosmetiquera_dir))\n",
        "\n",
        "num_case_tst = len(os.listdir(test_case_dir))\n",
        "num_dialga_tst = len(os.listdir(test_dialga_dir))\n",
        "num_diario_tst = len(os.listdir(test_diario_dir))\n",
        "num_forro_tst = len(os.listdir(test_forro_dir))\n",
        "num_goku_tst = len(os.listdir(test_goku_dir))\n",
        "num_paleta_tst = len(os.listdir(test_paleta_dir))\n",
        "num_pocillo_tst = len(os.listdir(test_pocillo_dir))\n",
        "num_powerbank_tst = len(os.listdir(test_powerbank_dir))\n",
        "num_wireless_tst = len(os.listdir(test_wireless_dir))\n",
        "num_cosmetiquera_tst = len(os.listdir(test_cosmetiquera_dir))\n",
        "\n",
        "total_train = num_case_tr + num_dialga_tr + num_diario_tr + num_forro_tr + num_goku_tr + num_paleta_tr + num_pocillo_tr + num_powerbank_tr + num_wireless_tr + num_cosmetiquera_tr\n",
        "total_val = num_case_val + num_dialga_val + num_diario_val + num_forro_val + num_goku_val + num_paleta_val + num_pocillo_val + num_powerbank_val + num_wireless_val + num_cosmetiquera_val\n",
        "total_tst = num_case_tst + num_dialga_tst + num_diario_tst + num_forro_tst + num_goku_tst + num_paleta_tst + num_pocillo_tst + num_powerbank_tst + num_wireless_tst + num_cosmetiquera_tst"
      ]
    },
    {
      "cell_type": "code",
      "execution_count": null,
      "metadata": {
        "colab": {
          "base_uri": "https://localhost:8080/"
        },
        "id": "g4GGzGt0VrV7",
        "outputId": "f5bc587f-d54d-46fd-e99d-11d859304e38"
      },
      "outputs": [
        {
          "output_type": "stream",
          "name": "stdout",
          "text": [
            "Total training Case images: 200\n",
            "Total training Dialga images: 200\n",
            "Total training Diario images: 200\n",
            "Total training Forro images: 200\n",
            "Total training Goku images: 200\n",
            "Total training Paleta images: 200\n",
            "Total training Pocillo images: 200\n",
            "Total training Powerbank images: 200\n",
            "Total training Wireless images: 200\n",
            "Total training Cosmetiquera images: 200\n",
            "-------------\n",
            "Total validation Case images: 50\n",
            "Total validation Dialga images: 50\n",
            "Total validation Diario images: 50\n",
            "Total validation Forro images: 50\n",
            "Total validation Goku images: 50\n",
            "Total validation Paleta images: 50\n",
            "Total validation Pocillo images: 50\n",
            "Total validation Powerbank images: 50\n",
            "Total validation Wireless images: 50\n",
            "Total validation Cosmetiquera images: 50\n",
            "-------------\n",
            "Total test Case images: 100\n",
            "Total test Dialga images: 100\n",
            "Total test Diario images: 100\n",
            "Total test Forro images: 100\n",
            "Total test Goku images: 100\n",
            "Total test Paleta images: 100\n",
            "Total test Pocillo images: 100\n",
            "Total test Powerbank images: 100\n",
            "Total test Wireless images: 100\n",
            "Total test Cosmetiquera images: 100\n",
            "-------------\n",
            "Total training images: 2000\n",
            "Total validation images: 500\n",
            "Total test images: 1000\n"
          ]
        }
      ],
      "source": [
        "print('Total training Case images:', num_case_tr)\n",
        "print('Total training Dialga images:', num_dialga_tr)\n",
        "print('Total training Diario images:', num_diario_tr)\n",
        "print('Total training Forro images:', num_forro_tr)\n",
        "print('Total training Goku images:', num_goku_tr)\n",
        "print('Total training Paleta images:', num_paleta_tr)\n",
        "print('Total training Pocillo images:', num_pocillo_tr)\n",
        "print('Total training Powerbank images:', num_powerbank_tr)\n",
        "print('Total training Wireless images:', num_wireless_tr)\n",
        "print('Total training Cosmetiquera images:', num_cosmetiquera_tr)\n",
        "print('-------------')\n",
        "print('Total validation Case images:', num_case_val)\n",
        "print('Total validation Dialga images:', num_dialga_val)\n",
        "print('Total validation Diario images:', num_diario_val)\n",
        "print('Total validation Forro images:', num_forro_val)\n",
        "print('Total validation Goku images:', num_goku_val)\n",
        "print('Total validation Paleta images:', num_paleta_val)\n",
        "print('Total validation Pocillo images:', num_pocillo_val)\n",
        "print('Total validation Powerbank images:', num_powerbank_val)\n",
        "print('Total validation Wireless images:', num_wireless_val)\n",
        "print('Total validation Cosmetiquera images:', num_cosmetiquera_val)\n",
        "print('-------------')\n",
        "print('Total test Case images:', num_case_tst)\n",
        "print('Total test Dialga images:', num_dialga_tst)\n",
        "print('Total test Diario images:', num_diario_tst)\n",
        "print('Total test Forro images:', num_forro_tst)\n",
        "print('Total test Goku images:', num_goku_tst)\n",
        "print('Total test Paleta images:', num_paleta_tst)\n",
        "print('Total test Pocillo images:', num_pocillo_tst)\n",
        "print('Total test Powerbank images:', num_powerbank_tst)\n",
        "print('Total test Wireless images:', num_wireless_tst)\n",
        "print('Total test Cosmetiquera images:', num_cosmetiquera_tst)\n",
        "print('-------------')\n",
        "print('Total training images:', total_train)\n",
        "print('Total validation images:', total_val)\n",
        "print('Total test images:', total_tst)"
      ]
    },
    {
      "cell_type": "markdown",
      "metadata": {
        "id": "M4ypyL2ikJCA"
      },
      "source": [
        "# Pre-procesamiento de imágenes"
      ]
    },
    {
      "cell_type": "markdown",
      "metadata": {
        "id": "OXiVXxg6klMf"
      },
      "source": [
        "## Aumentación y preparación de datos"
      ]
    },
    {
      "cell_type": "code",
      "execution_count": null,
      "metadata": {
        "colab": {
          "base_uri": "https://localhost:8080/"
        },
        "id": "BBXSJNWOw_Id",
        "outputId": "78959efd-3738-49a5-d040-6505f6d929e7"
      },
      "outputs": [
        {
          "output_type": "stream",
          "name": "stdout",
          "text": [
            "Found 2000 images belonging to 10 classes.\n",
            "Found 500 images belonging to 10 classes.\n",
            "Found 1000 images belonging to 10 classes.\n"
          ]
        }
      ],
      "source": [
        "train_datagen = ImageDataGenerator(\n",
        "                rescale = 1./255\n",
        "                )\n",
        "\n",
        "train_generator = train_datagen.flow_from_directory(\n",
        "                train_path,\n",
        "                target_size = input_shape,\n",
        "                color_mode = 'rgb',\n",
        "                classes = None,\n",
        "                class_mode = 'categorical',\n",
        "                batch_size = model_batch_size,\n",
        "                shuffle = True,\n",
        "                seed = 123,\n",
        "                interpolation = 'nearest'\n",
        "                )\n",
        "\n",
        "valid_datagen = ImageDataGenerator(\n",
        "                rescale = 1./255\n",
        "                )\n",
        "\n",
        "valid_generator = valid_datagen.flow_from_directory(\n",
        "                valid_path,\n",
        "                target_size = input_shape,\n",
        "                color_mode = 'rgb',\n",
        "                classes = None,\n",
        "                class_mode = 'categorical',\n",
        "                batch_size = model_batch_size,\n",
        "                shuffle = True,\n",
        "                seed = 123,\n",
        "                interpolation = 'nearest'\n",
        "                )\n",
        "\n",
        "test_datagen = ImageDataGenerator(\n",
        "                rescale = 1./255\n",
        "                )\n",
        "\n",
        "test_generator = test_datagen.flow_from_directory(\n",
        "                test_path,\n",
        "                target_size = input_shape,\n",
        "                color_mode = 'rgb',\n",
        "                classes = None,\n",
        "                class_mode = 'categorical',\n",
        "                shuffle = False,\n",
        "                interpolation = 'nearest'\n",
        "                )"
      ]
    },
    {
      "cell_type": "markdown",
      "metadata": {
        "id": "H4PEYINhk9_Y"
      },
      "source": [
        "# Modelo de red"
      ]
    },
    {
      "cell_type": "markdown",
      "metadata": {
        "id": "wpfcg7kdldx3"
      },
      "source": [
        "## Arquitectura de red"
      ]
    },
    {
      "cell_type": "code",
      "execution_count": null,
      "metadata": {
        "id": "xs8Q1cn20jm4"
      },
      "outputs": [],
      "source": [
        "model = tf.keras.models.Sequential([\n",
        "    tf.keras.layers.Conv2D(32, (3,3), activation='relu', input_shape=(224,224,3)),\n",
        "    tf.keras.layers.MaxPooling2D(2, 2),\n",
        "\n",
        "    tf.keras.layers.Conv2D(64, (3,3), activation='relu'),\n",
        "    tf.keras.layers.MaxPooling2D(2,2),\n",
        "\n",
        "    tf.keras.layers.Conv2D(128, (3,3), activation='relu'),\n",
        "    tf.keras.layers.MaxPooling2D(2,2),\n",
        "\n",
        "    tf.keras.layers.Conv2D(256, (3,3), activation='relu'),\n",
        "    tf.keras.layers.MaxPooling2D(2,2),\n",
        "\n",
        "    tf.keras.layers.Conv2D(256, (3,3), activation='relu'),\n",
        "    tf.keras.layers.MaxPooling2D(2,2),\n",
        "\n",
        "    tf.keras.layers.Conv2D(256, (3,3), activation='relu'),\n",
        "\n",
        "    tf.keras.layers.Dropout(0.5),\n",
        "    tf.keras.layers.Flatten(),\n",
        "    tf.keras.layers.Dense(512, activation='relu'),\n",
        "    tf.keras.layers.Dense(number_of_classes, activation='softmax')\n",
        "])"
      ]
    },
    {
      "cell_type": "code",
      "execution_count": null,
      "metadata": {
        "colab": {
          "base_uri": "https://localhost:8080/"
        },
        "id": "-W13GY1D3slr",
        "outputId": "ffa644cd-6f1a-4eb6-f2d1-3dae1aa0ad1a"
      },
      "outputs": [
        {
          "output_type": "execute_result",
          "data": {
            "text/plain": [
              "15"
            ]
          },
          "metadata": {},
          "execution_count": 11
        }
      ],
      "source": [
        "len(model.layers)"
      ]
    },
    {
      "cell_type": "markdown",
      "metadata": {
        "id": "Ll9OdwGLlWTA"
      },
      "source": [
        "## Compilador de red"
      ]
    },
    {
      "cell_type": "code",
      "execution_count": null,
      "metadata": {
        "colab": {
          "base_uri": "https://localhost:8080/"
        },
        "id": "-XEQp_XqxgFN",
        "outputId": "ae1bca2f-f3b0-423e-e93c-b89c2fbe950f"
      },
      "outputs": [
        {
          "output_type": "stream",
          "name": "stderr",
          "text": [
            "WARNING:tensorflow:`epsilon` argument is deprecated and will be removed, use `min_delta` instead.\n"
          ]
        },
        {
          "output_type": "stream",
          "name": "stdout",
          "text": [
            "Model: \"sequential\"\n",
            "_________________________________________________________________\n",
            " Layer (type)                Output Shape              Param #   \n",
            "=================================================================\n",
            " conv2d (Conv2D)             (None, 222, 222, 32)      896       \n",
            "                                                                 \n",
            " max_pooling2d (MaxPooling2  (None, 111, 111, 32)      0         \n",
            " D)                                                              \n",
            "                                                                 \n",
            " conv2d_1 (Conv2D)           (None, 109, 109, 64)      18496     \n",
            "                                                                 \n",
            " max_pooling2d_1 (MaxPoolin  (None, 54, 54, 64)        0         \n",
            " g2D)                                                            \n",
            "                                                                 \n",
            " conv2d_2 (Conv2D)           (None, 52, 52, 128)       73856     \n",
            "                                                                 \n",
            " max_pooling2d_2 (MaxPoolin  (None, 26, 26, 128)       0         \n",
            " g2D)                                                            \n",
            "                                                                 \n",
            " conv2d_3 (Conv2D)           (None, 24, 24, 256)       295168    \n",
            "                                                                 \n",
            " max_pooling2d_3 (MaxPoolin  (None, 12, 12, 256)       0         \n",
            " g2D)                                                            \n",
            "                                                                 \n",
            " conv2d_4 (Conv2D)           (None, 10, 10, 256)       590080    \n",
            "                                                                 \n",
            " max_pooling2d_4 (MaxPoolin  (None, 5, 5, 256)         0         \n",
            " g2D)                                                            \n",
            "                                                                 \n",
            " conv2d_5 (Conv2D)           (None, 3, 3, 256)         590080    \n",
            "                                                                 \n",
            " dropout (Dropout)           (None, 3, 3, 256)         0         \n",
            "                                                                 \n",
            " flatten (Flatten)           (None, 2304)              0         \n",
            "                                                                 \n",
            " dense (Dense)               (None, 512)               1180160   \n",
            "                                                                 \n",
            " dense_1 (Dense)             (None, 10)                5130      \n",
            "                                                                 \n",
            "=================================================================\n",
            "Total params: 2753866 (10.51 MB)\n",
            "Trainable params: 2753866 (10.51 MB)\n",
            "Non-trainable params: 0 (0.00 Byte)\n",
            "_________________________________________________________________\n"
          ]
        }
      ],
      "source": [
        "#Se programa el Early Stopping para que el entrenamiento se detenga antes de que el modelo sobreaprenda, dependiendo del error de validación\n",
        "early_stopping = EarlyStopping(monitor='val_loss', patience=10, verbose=0, mode='min')\n",
        "\n",
        "#Se configura el Model Checkpoint para guardar el mejor modelo resultante entre todas las iteraciones del entrenamiento, con base en el error de validación\n",
        "model_checkpoint = ModelCheckpoint(root_path+'/ModelosCNN/'+str(time.time())+'_weights_check.h5', save_best_only=True, monitor='val_loss', mode='min')\n",
        "\n",
        "#Reduce el Learning Rate si el entrenamiento se estanca en alguna iteración, basándose en el error de validación\n",
        "learning_rate = ReduceLROnPlateau(monitor='val_loss', factor=0.1, patience=7, verbose=1, epsilon=1e-4, mode='min')\n",
        "\n",
        "\n",
        "model.compile(optimizer='adam',\n",
        "              loss='categorical_crossentropy',\n",
        "              metrics=['accuracy'])\n",
        "\n",
        "model.summary()"
      ]
    },
    {
      "cell_type": "markdown",
      "metadata": {
        "id": "20t80b50lmaf"
      },
      "source": [
        "# Entrenamiento de la red neuronal"
      ]
    },
    {
      "cell_type": "code",
      "execution_count": null,
      "metadata": {
        "colab": {
          "base_uri": "https://localhost:8080/"
        },
        "id": "BY5rna2F-nD4",
        "outputId": "f59f3f9a-cc86-445d-939a-088fde89fa9c"
      },
      "outputs": [
        {
          "output_type": "stream",
          "name": "stderr",
          "text": [
            "<ipython-input-13-bc0fd138935f>:1: UserWarning: `Model.fit_generator` is deprecated and will be removed in a future version. Please use `Model.fit`, which supports generators.\n",
            "  model_history = model.fit_generator(generator=train_generator,\n"
          ]
        },
        {
          "output_type": "stream",
          "name": "stdout",
          "text": [
            "Epoch 1/8\n",
            "40/40 [==============================] - 513s 13s/step - loss: 1.9649 - accuracy: 0.2435 - val_loss: 1.4204 - val_accuracy: 0.4260 - lr: 0.0010\n",
            "Epoch 2/8\n"
          ]
        },
        {
          "output_type": "stream",
          "name": "stderr",
          "text": [
            "/usr/local/lib/python3.10/dist-packages/keras/src/engine/training.py:3103: UserWarning: You are saving your model as an HDF5 file via `model.save()`. This file format is considered legacy. We recommend using instead the native Keras format, e.g. `model.save('my_model.keras')`.\n",
            "  saving_api.save_model(\n"
          ]
        },
        {
          "output_type": "stream",
          "name": "stdout",
          "text": [
            "40/40 [==============================] - 12s 286ms/step - loss: 1.0468 - accuracy: 0.5980 - val_loss: 0.7258 - val_accuracy: 0.7340 - lr: 0.0010\n",
            "Epoch 3/8\n",
            "40/40 [==============================] - 12s 287ms/step - loss: 0.4777 - accuracy: 0.8300 - val_loss: 0.4389 - val_accuracy: 0.8760 - lr: 0.0010\n",
            "Epoch 4/8\n",
            "40/40 [==============================] - 10s 255ms/step - loss: 0.2514 - accuracy: 0.9155 - val_loss: 0.2989 - val_accuracy: 0.9100 - lr: 0.0010\n",
            "Epoch 5/8\n",
            "40/40 [==============================] - 12s 296ms/step - loss: 0.1703 - accuracy: 0.9505 - val_loss: 0.2239 - val_accuracy: 0.9320 - lr: 0.0010\n",
            "Epoch 6/8\n",
            "40/40 [==============================] - 11s 278ms/step - loss: 0.1363 - accuracy: 0.9590 - val_loss: 0.2582 - val_accuracy: 0.9200 - lr: 0.0010\n",
            "Epoch 7/8\n",
            "40/40 [==============================] - 11s 279ms/step - loss: 0.1009 - accuracy: 0.9695 - val_loss: 0.2647 - val_accuracy: 0.9400 - lr: 0.0010\n",
            "Epoch 8/8\n",
            "40/40 [==============================] - 10s 251ms/step - loss: 0.0785 - accuracy: 0.9795 - val_loss: 0.3867 - val_accuracy: 0.9260 - lr: 0.0010\n"
          ]
        }
      ],
      "source": [
        "model_history = model.fit_generator(generator=train_generator,\n",
        "                        epochs=epochs,\n",
        "                        validation_data=valid_generator,\n",
        "                        callbacks=[early_stopping, model_checkpoint, learning_rate])"
      ]
    },
    {
      "cell_type": "markdown",
      "metadata": {
        "id": "lFvY47lymkbe"
      },
      "source": [
        "# Métricas de entrenamiento del modelo de red neuronal"
      ]
    },
    {
      "cell_type": "markdown",
      "metadata": {
        "id": "pRFK80-hlsJx"
      },
      "source": [
        "## Generación de gráficas de entrenamiento"
      ]
    },
    {
      "cell_type": "code",
      "execution_count": null,
      "metadata": {
        "id": "tJ7WBt_FxsZM"
      },
      "outputs": [],
      "source": [
        "def plot_history(Exp_history):\n",
        "    plt.figure(1)\n",
        "    plt.subplot(211)\n",
        "    plt.plot(Exp_history.history['accuracy'])\n",
        "    plt.plot(Exp_history.history['val_accuracy'])\n",
        "    plt.title('Gráfica de precisión')\n",
        "    plt.ylabel('Precisión')\n",
        "    plt.legend(['Entrenamiento', 'Validación'], loc='upper left')\n",
        "    plt.subplot(212)\n",
        "    plt.plot(Exp_history.history['loss'])\n",
        "    plt.plot(Exp_history.history['val_loss'])\n",
        "    plt.title('Gráfica de pérdida')\n",
        "    plt.ylabel('Pérdida')\n",
        "    plt.xlabel('Iteraciones')\n",
        "    plt.legend(['Entrenamiento', 'Validación'], loc='upper left')\n",
        "    plt.show()"
      ]
    },
    {
      "cell_type": "code",
      "execution_count": null,
      "metadata": {
        "colab": {
          "base_uri": "https://localhost:8080/",
          "height": 472
        },
        "id": "-Alyx-2a0HbG",
        "outputId": "942d3075-ba7c-45a2-e9da-438612cf432b"
      },
      "outputs": [
        {
          "output_type": "display_data",
          "data": {
            "text/plain": [
              "<Figure size 640x480 with 2 Axes>"
            ],
            "image/png": "[encoded data removed]"
          },
          "metadata": {}
        }
      ],
      "source": [
        "plot_history(model_history)"
      ]
    },
    {
      "cell_type": "markdown",
      "metadata": {
        "id": "v4HTfEtHmxEj"
      },
      "source": [
        "## Evaluación"
      ]
    },
    {
      "cell_type": "code",
      "execution_count": null,
      "metadata": {
        "colab": {
          "base_uri": "https://localhost:8080/"
        },
        "id": "insGzpUd1f7E",
        "outputId": "494c79b2-1b99-491a-c8f8-98e167f31c23"
      },
      "outputs": [
        {
          "output_type": "stream",
          "name": "stdout",
          "text": [
            "32/32 [==============================] - 212s 7s/step - loss: 0.4738 - accuracy: 0.9320\n"
          ]
        }
      ],
      "source": [
        "evaluation = model.evaluate(test_generator)"
      ]
    },
    {
      "cell_type": "code",
      "execution_count": null,
      "metadata": {
        "colab": {
          "base_uri": "https://localhost:8080/"
        },
        "id": "Cj_PsIrivAAq",
        "outputId": "d5b6354b-bce4-48db-f537-3ea75262f80d"
      },
      "outputs": [
        {
          "output_type": "execute_result",
          "data": {
            "text/plain": [
              "[0.4738445580005646, 0.9319999814033508]"
            ]
          },
          "metadata": {},
          "execution_count": 17
        }
      ],
      "source": [
        "evaluation"
      ]
    },
    {
      "cell_type": "markdown",
      "metadata": {
        "id": "BTTGvXzJNkVo"
      },
      "source": [
        "## Predicción de la red con imágenes de prueba"
      ]
    },
    {
      "cell_type": "code",
      "execution_count": null,
      "metadata": {
        "colab": {
          "base_uri": "https://localhost:8080/"
        },
        "id": "GEViF8YBN2eT",
        "outputId": "60792ec5-d992-4577-f3a3-de83d2150605"
      },
      "outputs": [
        {
          "output_type": "stream",
          "name": "stdout",
          "text": [
            "32/32 [==============================] - 4s 128ms/step\n"
          ]
        }
      ],
      "source": [
        "test_predictions = model.predict(test_generator)"
      ]
    },
    {
      "cell_type": "code",
      "execution_count": null,
      "metadata": {
        "id": "OhJAo-CyP0Oa"
      },
      "outputs": [],
      "source": [
        "predicted_test_images = []\n",
        "\n",
        "for prediction in test_predictions:\n",
        "  predicted_test_images.append(np.argmax(prediction))"
      ]
    },
    {
      "cell_type": "code",
      "execution_count": null,
      "metadata": {
        "id": "U-zELLp0OYvi"
      },
      "outputs": [],
      "source": [
        "test_labels = []\n",
        "\n",
        "for test_folder in range(number_of_classes):\n",
        "  test_class = len(os.listdir(test_path+'/'+str(test_folder)))\n",
        "  for test_image in range(test_class):\n",
        "    test_labels.append(test_folder)"
      ]
    },
    {
      "cell_type": "markdown",
      "metadata": {
        "id": "3piNBFeXQoZq"
      },
      "source": [
        "## Confusion Matrix"
      ]
    },
    {
      "cell_type": "code",
      "execution_count": null,
      "metadata": {
        "colab": {
          "base_uri": "https://localhost:8080/"
        },
        "id": "6awXYEWMQ48i",
        "outputId": "36394f80-2a96-4e0a-e2b4-9444811468fd"
      },
      "outputs": [
        {
          "output_type": "execute_result",
          "data": {
            "text/plain": [
              "array([[ 83,   0,   0,   0,   8,   0,   6,   2,   0,   1],\n",
              "       [  0, 100,   0,   0,   0,   0,   0,   0,   0,   0],\n",
              "       [  0,   0,  94,   6,   0,   0,   0,   0,   0,   0],\n",
              "       [  0,   0,   0,  97,   0,   0,   0,   3,   0,   0],\n",
              "       [  0,   1,   0,   0,  95,   0,   0,   4,   0,   0],\n",
              "       [  0,   0,   0,   0,   0,  96,   0,   4,   0,   0],\n",
              "       [  0,   7,   0,   0,   0,   0,  93,   0,   0,   0],\n",
              "       [  0,   0,   0,   0,   0,   0,   0, 100,   0,   0],\n",
              "       [ 26,   0,   0,   0,   0,   0,   0,   0,  74,   0],\n",
              "       [  0,   0,   0,   0,   0,   0,   0,   0,   0, 100]])"
            ]
          },
          "metadata": {},
          "execution_count": 21
        }
      ],
      "source": [
        "model_confusion_matrix = confusion_matrix(test_labels,predicted_test_images)\n",
        "\n",
        "#Row = True // Columns = Predictions\n",
        "model_confusion_matrix"
      ]
    },
    {
      "cell_type": "markdown",
      "metadata": {
        "id": "McuYaAhAUltD"
      },
      "source": [
        "## Classification Report"
      ]
    },
    {
      "cell_type": "code",
      "execution_count": null,
      "metadata": {
        "colab": {
          "base_uri": "https://localhost:8080/",
          "height": 87
        },
        "id": "9coGcnl1So6L",
        "outputId": "2df7a17f-26b6-4820-df05-a01ff00d8140"
      },
      "outputs": [
        {
          "output_type": "execute_result",
          "data": {
            "text/plain": [
              "'                     precision    recall  f1-score   support\\n\\n               Case       0.76      0.83      0.79       100\\n             Dialga       0.93      1.00      0.96       100\\n Diario Hello Kitty       1.00      0.94      0.97       100\\n  Forro Hello Kitty       0.94      0.97      0.96       100\\n               Goku       0.92      0.95      0.94       100\\n  Paleta de sombras       1.00      0.96      0.98       100\\nPocillo de mascotas       0.94      0.93      0.93       100\\n          Powerbank       0.88      1.00      0.94       100\\n           Wireless       1.00      0.74      0.85       100\\n       Cosmetiquera       0.99      1.00      1.00       100\\n\\n           accuracy                           0.93      1000\\n          macro avg       0.94      0.93      0.93      1000\\n       weighted avg       0.94      0.93      0.93      1000\\n'"
            ],
            "application/vnd.google.colaboratory.intrinsic+json": {
              "type": "string"
            }
          },
          "metadata": {},
          "execution_count": 22
        }
      ],
      "source": [
        "model_classification_report = classification_report(test_labels,predicted_test_images,target_names=['Case','Dialga','Diario Hello Kitty', 'Forro Hello Kitty', 'Goku', 'Paleta de sombras', 'Pocillo de mascotas', 'Powerbank', 'Wireless', 'Cosmetiquera'])\n",
        "\n",
        "model_classification_report"
      ]
    },
    {
      "cell_type": "markdown",
      "metadata": {
        "id": "0VYAEMqAm1OH"
      },
      "source": [
        "## Guardado"
      ]
    },
    {
      "cell_type": "code",
      "execution_count": null,
      "metadata": {
        "id": "Xjb3X1CPxkXC",
        "colab": {
          "base_uri": "https://localhost:8080/"
        },
        "outputId": "168290d6-0f0e-4957-bceb-f09f424db165"
      },
      "outputs": [
        {
          "output_type": "stream",
          "name": "stderr",
          "text": [
            "/usr/local/lib/python3.10/dist-packages/keras/src/engine/training.py:3103: UserWarning: You are saving your model as an HDF5 file via `model.save()`. This file format is considered legacy. We recommend using instead the native Keras format, e.g. `model.save('my_model.keras')`.\n",
            "  saving_api.save_model(\n"
          ]
        }
      ],
      "source": [
        "model.save(root_path+'/ModelosCNN/'+str(time.time())+'_last_model.h5')"
      ]
    },
    {
      "cell_type": "markdown",
      "metadata": {
        "id": "ACmx7Qjbl91_"
      },
      "source": [
        "# Sección de prueba de la red neuronal"
      ]
    },
    {
      "cell_type": "code",
      "execution_count": null,
      "metadata": {
        "colab": {
          "base_uri": "https://localhost:8080/",
          "height": 293
        },
        "id": "6yZ6oefW1lSv",
        "outputId": "d51b4f03-8c4e-49ef-f885-b9a38291b850"
      },
      "outputs": [
        {
          "output_type": "display_data",
          "data": {
            "text/plain": [
              "<PIL.Image.Image image mode=RGB size=224x224>"
            ],
            "image/png": "[encoded data removed]"
          },
          "metadata": {}
        },
        {
          "output_type": "stream",
          "name": "stdout",
          "text": [
            "1/1 [==============================] - 0s 17ms/step\n",
            "-------------\n",
            "Este producto es = Comestiquera\n"
          ]
        }
      ],
      "source": [
        "test_files = os.listdir(test_path)\n",
        "folder = random.choice (test_files)\n",
        "image_text = random.choice(os.listdir(test_path+'/'+folder))\n",
        "\n",
        "img = load_img(test_path+'/'+folder+'/'+image_text)\n",
        "img = img_to_array(img)\n",
        "sup_img = img\n",
        "\n",
        "shw_img = cv2.resize(sup_img,(224,224))\n",
        "cv2_imshow(shw_img)\n",
        "\n",
        "img = img/255\n",
        "img = cv2.resize(img,(224,224))\n",
        "\n",
        "img = np.expand_dims(img,0)\n",
        "\n",
        "prediction = model.predict(img)\n",
        "prediction = np.argmax(prediction)\n",
        "\n",
        "\n",
        "classification = label_dictionary[prediction]\n",
        "print('-------------')\n",
        "print('Este producto es = ' + classification)"
      ]
    },
    {
      "cell_type": "markdown",
      "metadata": {
        "id": "HNp9ns68mv2q"
      },
      "source": [
        "# Predicción del modelo de red neuronal"
      ]
    },
    {
      "cell_type": "markdown",
      "metadata": {
        "id": "BWBa67uTpaqw"
      },
      "source": [
        "## Predicción al usuario"
      ]
    },
    {
      "cell_type": "markdown",
      "metadata": {
        "id": "Pjo938U_pgVg"
      },
      "source": [
        "### Subida del archivo externo"
      ]
    },
    {
      "cell_type": "code",
      "execution_count": null,
      "metadata": {
        "colab": {
          "base_uri": "https://localhost:8080/",
          "height": 342
        },
        "id": "jtD2VXVMpqcp",
        "outputId": "afe810dd-604c-4d3d-e7a7-b0f0ee4bd78c"
      },
      "outputs": [
        {
          "output_type": "display_data",
          "data": {
            "text/plain": [
              "<IPython.core.display.HTML object>"
            ],
            "text/html": [
              "\n",
              "     <input type=\"file\" id=\"files-b4abd328-c0ae-49fd-af8d-3692700da5e0\" name=\"files[]\" multiple disabled\n",
              "        style=\"border:none\" />\n",
              "     <output id=\"result-b4abd328-c0ae-49fd-af8d-3692700da5e0\">\n",
              "      Upload widget is only available when the cell has been executed in the\n",
              "      current browser session. Please rerun this cell to enable.\n",
              "      </output>\n",
              "      <script>// Copyright 2017 Google LLC\n",
              "//\n",
              "// Licensed under the Apache License, Version 2.0 (the \"License\");\n",
              "// you may not use this file except in compliance with the License.\n",
              "// You may obtain a copy of the License at\n",
              "//\n",
              "//      http://www.apache.org/licenses/LICENSE-2.0\n",
              "//\n",
              "// Unless required by applicable law or agreed to in writing, software\n",
              "// distributed under the License is distributed on an \"AS IS\" BASIS,\n",
              "// WITHOUT WARRANTIES OR CONDITIONS OF ANY KIND, either express or implied.\n",
              "// See the License for the specific language governing permissions and\n",
              "// limitations under the License.\n",
              "\n",
              "/**\n",
              " * @fileoverview Helpers for google.colab Python module.\n",
              " */\n",
              "(function(scope) {\n",
              "function span(text, styleAttributes = {}) {\n",
              "  const element = document.createElement('span');\n",
              "  element.textContent = text;\n",
              "  for (const key of Object.keys(styleAttributes)) {\n",
              "    element.style[key] = styleAttributes[key];\n",
              "  }\n",
              "  return element;\n",
              "}\n",
              "\n",
              "// Max number of bytes which will be uploaded at a time.\n",
              "const MAX_PAYLOAD_SIZE = 100 * 1024;\n",
              "\n",
              "function _uploadFiles(inputId, outputId) {\n",
              "  const steps = uploadFilesStep(inputId, outputId);\n",
              "  const outputElement = document.getElementById(outputId);\n",
              "  // Cache steps on the outputElement to make it available for the next call\n",
              "  // to uploadFilesContinue from Python.\n",
              "  outputElement.steps = steps;\n",
              "\n",
              "  return _uploadFilesContinue(outputId);\n",
              "}\n",
              "\n",
              "// This is roughly an async generator (not supported in the browser yet),\n",
              "// where there are multiple asynchronous steps and the Python side is going\n",
              "// to poll for completion of each step.\n",
              "// This uses a Promise to block the python side on completion of each step,\n",
              "// then passes the result of the previous step as the input to the next step.\n",
              "function _uploadFilesContinue(outputId) {\n",
              "  const outputElement = document.getElementById(outputId);\n",
              "  const steps = outputElement.steps;\n",
              "\n",
              "  const next = steps.next(outputElement.lastPromiseValue);\n",
              "  return Promise.resolve(next.value.promise).then((value) => {\n",
              "    // Cache the last promise value to make it available to the next\n",
              "    // step of the generator.\n",
              "    outputElement.lastPromiseValue = value;\n",
              "    return next.value.response;\n",
              "  });\n",
              "}\n",
              "\n",
              "/**\n",
              " * Generator function which is called between each async step of the upload\n",
              " * process.\n",
              " * @param {string} inputId Element ID of the input file picker element.\n",
              " * @param {string} outputId Element ID of the output display.\n",
              " * @return {!Iterable<!Object>} Iterable of next steps.\n",
              " */\n",
              "function* uploadFilesStep(inputId, outputId) {\n",
              "  const inputElement = document.getElementById(inputId);\n",
              "  inputElement.disabled = false;\n",
              "\n",
              "  const outputElement = document.getElementById(outputId);\n",
              "  outputElement.innerHTML = '';\n",
              "\n",
              "  const pickedPromise = new Promise((resolve) => {\n",
              "    inputElement.addEventListener('change', (e) => {\n",
              "      resolve(e.target.files);\n",
              "    });\n",
              "  });\n",
              "\n",
              "  const cancel = document.createElement('button');\n",
              "  inputElement.parentElement.appendChild(cancel);\n",
              "  cancel.textContent = 'Cancel upload';\n",
              "  const cancelPromise = new Promise((resolve) => {\n",
              "    cancel.onclick = () => {\n",
              "      resolve(null);\n",
              "    };\n",
              "  });\n",
              "\n",
              "  // Wait for the user to pick the files.\n",
              "  const files = yield {\n",
              "    promise: Promise.race([pickedPromise, cancelPromise]),\n",
              "    response: {\n",
              "      action: 'starting',\n",
              "    }\n",
              "  };\n",
              "\n",
              "  cancel.remove();\n",
              "\n",
              "  // Disable the input element since further picks are not allowed.\n",
              "  inputElement.disabled = true;\n",
              "\n",
              "  if (!files) {\n",
              "    return {\n",
              "      response: {\n",
              "        action: 'complete',\n",
              "      }\n",
              "    };\n",
              "  }\n",
              "\n",
              "  for (const file of files) {\n",
              "    const li = document.createElement('li');\n",
              "    li.append(span(file.name, {fontWeight: 'bold'}));\n",
              "    li.append(span(\n",
              "        `(${file.type || 'n/a'}) - ${file.size} bytes, ` +\n",
              "        `last modified: ${\n",
              "            file.lastModifiedDate ? file.lastModifiedDate.toLocaleDateString() :\n",
              "                                    'n/a'} - `));\n",
              "    const percent = span('0% done');\n",
              "    li.appendChild(percent);\n",
              "\n",
              "    outputElement.appendChild(li);\n",
              "\n",
              "    const fileDataPromise = new Promise((resolve) => {\n",
              "      const reader = new FileReader();\n",
              "      reader.onload = (e) => {\n",
              "        resolve(e.target.result);\n",
              "      };\n",
              "      reader.readAsArrayBuffer(file);\n",
              "    });\n",
              "    // Wait for the data to be ready.\n",
              "    let fileData = yield {\n",
              "      promise: fileDataPromise,\n",
              "      response: {\n",
              "        action: 'continue',\n",
              "      }\n",
              "    };\n",
              "\n",
              "    // Use a chunked sending to avoid message size limits. See b/62115660.\n",
              "    let position = 0;\n",
              "    do {\n",
              "      const length = Math.min(fileData.byteLength - position, MAX_PAYLOAD_SIZE);\n",
              "      const chunk = new Uint8Array(fileData, position, length);\n",
              "      position += length;\n",
              "\n",
              "      const base64 = btoa(String.fromCharCode.apply(null, chunk));\n",
              "      yield {\n",
              "        response: {\n",
              "          action: 'append',\n",
              "          file: file.name,\n",
              "          data: base64,\n",
              "        },\n",
              "      };\n",
              "\n",
              "      let percentDone = fileData.byteLength === 0 ?\n",
              "          100 :\n",
              "          Math.round((position / fileData.byteLength) * 100);\n",
              "      percent.textContent = `${percentDone}% done`;\n",
              "\n",
              "    } while (position < fileData.byteLength);\n",
              "  }\n",
              "\n",
              "  // All done.\n",
              "  yield {\n",
              "    response: {\n",
              "      action: 'complete',\n",
              "    }\n",
              "  };\n",
              "}\n",
              "\n",
              "scope.google = scope.google || {};\n",
              "scope.google.colab = scope.google.colab || {};\n",
              "scope.google.colab._files = {\n",
              "  _uploadFiles,\n",
              "  _uploadFilesContinue,\n",
              "};\n",
              "})(self);\n",
              "</script> "
            ]
          },
          "metadata": {}
        },
        {
          "output_type": "error",
          "ename": "KeyboardInterrupt",
          "evalue": "",
          "traceback": [
            "\u001b[0;31m---------------------------------------------------------------------------\u001b[0m",
            "\u001b[0;31mKeyboardInterrupt\u001b[0m                         Traceback (most recent call last)",
            "\u001b[0;32m<ipython-input-25-4938e46e651b>\u001b[0m in \u001b[0;36m<cell line: 3>\u001b[0;34m()\u001b[0m\n\u001b[1;32m      1\u001b[0m \u001b[0;32mfrom\u001b[0m \u001b[0mgoogle\u001b[0m\u001b[0;34m.\u001b[0m\u001b[0mcolab\u001b[0m \u001b[0;32mimport\u001b[0m \u001b[0mfiles\u001b[0m\u001b[0;34m\u001b[0m\u001b[0;34m\u001b[0m\u001b[0m\n\u001b[1;32m      2\u001b[0m \u001b[0;34m\u001b[0m\u001b[0m\n\u001b[0;32m----> 3\u001b[0;31m \u001b[0mupload_img\u001b[0m \u001b[0;34m=\u001b[0m \u001b[0mfiles\u001b[0m\u001b[0;34m.\u001b[0m\u001b[0mupload\u001b[0m\u001b[0;34m(\u001b[0m\u001b[0;34m)\u001b[0m\u001b[0;34m\u001b[0m\u001b[0;34m\u001b[0m\u001b[0m\n\u001b[0m",
            "\u001b[0;32m/usr/local/lib/python3.10/dist-packages/google/colab/files.py\u001b[0m in \u001b[0;36mupload\u001b[0;34m()\u001b[0m\n\u001b[1;32m     67\u001b[0m   \"\"\"\n\u001b[1;32m     68\u001b[0m \u001b[0;34m\u001b[0m\u001b[0m\n\u001b[0;32m---> 69\u001b[0;31m   \u001b[0muploaded_files\u001b[0m \u001b[0;34m=\u001b[0m \u001b[0m_upload_files\u001b[0m\u001b[0;34m(\u001b[0m\u001b[0mmultiple\u001b[0m\u001b[0;34m=\u001b[0m\u001b[0;32mTrue\u001b[0m\u001b[0;34m)\u001b[0m\u001b[0;34m\u001b[0m\u001b[0;34m\u001b[0m\u001b[0m\n\u001b[0m\u001b[1;32m     70\u001b[0m   \u001b[0;31m# Mapping from original filename to filename as saved locally.\u001b[0m\u001b[0;34m\u001b[0m\u001b[0;34m\u001b[0m\u001b[0m\n\u001b[1;32m     71\u001b[0m   \u001b[0mlocal_filenames\u001b[0m \u001b[0;34m=\u001b[0m \u001b[0mdict\u001b[0m\u001b[0;34m(\u001b[0m\u001b[0;34m)\u001b[0m\u001b[0;34m\u001b[0m\u001b[0;34m\u001b[0m\u001b[0m\n",
            "\u001b[0;32m/usr/local/lib/python3.10/dist-packages/google/colab/files.py\u001b[0m in \u001b[0;36m_upload_files\u001b[0;34m(multiple)\u001b[0m\n\u001b[1;32m    154\u001b[0m \u001b[0;34m\u001b[0m\u001b[0m\n\u001b[1;32m    155\u001b[0m   \u001b[0;31m# First result is always an indication that the file picker has completed.\u001b[0m\u001b[0;34m\u001b[0m\u001b[0;34m\u001b[0m\u001b[0m\n\u001b[0;32m--> 156\u001b[0;31m   result = _output.eval_js(\n\u001b[0m\u001b[1;32m    157\u001b[0m       'google.colab._files._uploadFiles(\"{input_id}\", \"{output_id}\")'.format(\n\u001b[1;32m    158\u001b[0m           \u001b[0minput_id\u001b[0m\u001b[0;34m=\u001b[0m\u001b[0minput_id\u001b[0m\u001b[0;34m,\u001b[0m \u001b[0moutput_id\u001b[0m\u001b[0;34m=\u001b[0m\u001b[0moutput_id\u001b[0m\u001b[0;34m\u001b[0m\u001b[0;34m\u001b[0m\u001b[0m\n",
            "\u001b[0;32m/usr/local/lib/python3.10/dist-packages/google/colab/output/_js.py\u001b[0m in \u001b[0;36meval_js\u001b[0;34m(script, ignore_result, timeout_sec)\u001b[0m\n\u001b[1;32m     38\u001b[0m   \u001b[0;32mif\u001b[0m \u001b[0mignore_result\u001b[0m\u001b[0;34m:\u001b[0m\u001b[0;34m\u001b[0m\u001b[0;34m\u001b[0m\u001b[0m\n\u001b[1;32m     39\u001b[0m     \u001b[0;32mreturn\u001b[0m\u001b[0;34m\u001b[0m\u001b[0;34m\u001b[0m\u001b[0m\n\u001b[0;32m---> 40\u001b[0;31m   \u001b[0;32mreturn\u001b[0m \u001b[0m_message\u001b[0m\u001b[0;34m.\u001b[0m\u001b[0mread_reply_from_input\u001b[0m\u001b[0;34m(\u001b[0m\u001b[0mrequest_id\u001b[0m\u001b[0;34m,\u001b[0m \u001b[0mtimeout_sec\u001b[0m\u001b[0;34m)\u001b[0m\u001b[0;34m\u001b[0m\u001b[0;34m\u001b[0m\u001b[0m\n\u001b[0m\u001b[1;32m     41\u001b[0m \u001b[0;34m\u001b[0m\u001b[0m\n\u001b[1;32m     42\u001b[0m \u001b[0;34m\u001b[0m\u001b[0m\n",
            "\u001b[0;32m/usr/local/lib/python3.10/dist-packages/google/colab/_message.py\u001b[0m in \u001b[0;36mread_reply_from_input\u001b[0;34m(message_id, timeout_sec)\u001b[0m\n\u001b[1;32m     94\u001b[0m     \u001b[0mreply\u001b[0m \u001b[0;34m=\u001b[0m \u001b[0m_read_next_input_message\u001b[0m\u001b[0;34m(\u001b[0m\u001b[0;34m)\u001b[0m\u001b[0;34m\u001b[0m\u001b[0;34m\u001b[0m\u001b[0m\n\u001b[1;32m     95\u001b[0m     \u001b[0;32mif\u001b[0m \u001b[0mreply\u001b[0m \u001b[0;34m==\u001b[0m \u001b[0m_NOT_READY\u001b[0m \u001b[0;32mor\u001b[0m \u001b[0;32mnot\u001b[0m \u001b[0misinstance\u001b[0m\u001b[0;34m(\u001b[0m\u001b[0mreply\u001b[0m\u001b[0;34m,\u001b[0m \u001b[0mdict\u001b[0m\u001b[0;34m)\u001b[0m\u001b[0;34m:\u001b[0m\u001b[0;34m\u001b[0m\u001b[0;34m\u001b[0m\u001b[0m\n\u001b[0;32m---> 96\u001b[0;31m       \u001b[0mtime\u001b[0m\u001b[0;34m.\u001b[0m\u001b[0msleep\u001b[0m\u001b[0;34m(\u001b[0m\u001b[0;36m0.025\u001b[0m\u001b[0;34m)\u001b[0m\u001b[0;34m\u001b[0m\u001b[0;34m\u001b[0m\u001b[0m\n\u001b[0m\u001b[1;32m     97\u001b[0m       \u001b[0;32mcontinue\u001b[0m\u001b[0;34m\u001b[0m\u001b[0;34m\u001b[0m\u001b[0m\n\u001b[1;32m     98\u001b[0m     if (\n",
            "\u001b[0;31mKeyboardInterrupt\u001b[0m: "
          ]
        }
      ],
      "source": [
        "from google.colab import files\n",
        "\n",
        "upload_img = files.upload()"
      ]
    },
    {
      "cell_type": "markdown",
      "metadata": {
        "id": "yYOwaRzOppWC"
      },
      "source": [
        "### Predicción y juego"
      ]
    },
    {
      "cell_type": "code",
      "execution_count": null,
      "metadata": {
        "id": "3OdxlWdb3QHs"
      },
      "outputs": [],
      "source": [
        "user_input_img = str(upload_img).split(sep=':')\n",
        "user_input_img = str(user_input_img[0]).split(sep='{')\n",
        "user_input_img = user_input_img[1].replace(\"'\",\"\")\n",
        "\n",
        "user_img = load_img('/content/' + user_input_img)\n",
        "\n",
        "\n",
        "user_img = img_to_array(user_img)\n",
        "sup_img = user_img\n",
        "\n",
        "shw_img = cv2.resize(sup_img,(224,224))\n",
        "cv2_imshow(shw_img)\n",
        "\n",
        "user_img = user_img/255\n",
        "user_img = cv2.resize(user_img,(224,224))\n",
        "\n",
        "u_img = np.expand_dims(user_img,0)\n",
        "\n",
        "\n",
        "user_input_prediction = model.predict(u_img)\n",
        "user_prediction = np.argmax(user_input_prediction)\n",
        "\n",
        "user_classification = label_dictionary[user_prediction]\n",
        "\n",
        "print('-------------')\n",
        "print('Este producto es = ' + user_classification)\n",
        "print('-------------')\n",
        "\n",
        "os.remove('/content/' + user_input_img)"
      ]
    },
    {
      "cell_type": "markdown",
      "metadata": {
        "id": "otFg9_zKh8fC"
      },
      "source": [
        "### Para volver a probar una predicción de este modelo de red neuronal convolucional, por favor ejecuta las últimas dos celdas."
      ]
    }
  ],
  "metadata": {
    "accelerator": "GPU",
    "colab": {
      "provenance": []
    },
    "gpuClass": "standard",
    "kernelspec": {
      "display_name": "Python 3",
      "name": "python3"
    },
    "language_info": {
      "name": "python"
    }
  },
  "nbformat": 4,
  "nbformat_minor": 0
}